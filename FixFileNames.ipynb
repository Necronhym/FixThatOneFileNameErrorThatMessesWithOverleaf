{
 "cells": [
  {
   "cell_type": "code",
   "execution_count": 1,
   "id": "854dc299",
   "metadata": {},
   "outputs": [
    {
     "name": "stdout",
     "output_type": "stream",
     "text": [
      "Renamed: CNN-MCOA Waste classification -  ht macro-micro ROC.pdf -> CNN-MCOA Waste classification - ht macro-micro ROC.pdf\n",
      "Renamed: CNN-MCOA Waste classification -  ht PR.pdf.pdf -> CNN-MCOA Waste classification - ht PR.pdf.pdf\n",
      "Renamed: CNN-MCOA Waste classification - ht confusion matrix.pdf -> CNN-MCOA Waste classification - ht confusion matrix.pdf\n",
      "Renamed: CNN-MCOA Waste classification - ht micro ROC.pdf -> CNN-MCOA Waste classification - ht micro ROC.pdf\n",
      "Renamed: Untitled.ipynb -> Untitled.ipynb\n",
      "Renamed: Waste classification -  CNN-MCOA objective indicator joint plot.pdf -> Waste classification - CNN-MCOA objective indicator joint plot.pdf\n",
      "Renamed: Waste classification -  ht cohen kappa box plot diagram.pdf -> Waste classification - ht cohen kappa box plot diagram.pdf\n",
      "Renamed: Waste classification -  ht cohen kappa convergence graph.pdf -> Waste classification - ht cohen kappa convergence graph.pdf\n",
      "Renamed: Waste classification -  ht objective convergence graph.pdf -> Waste classification - ht objective convergence graph.pdf\n",
      "Renamed: Waste classification -  ht objective violin plot diagram.pdf -> Waste classification - ht objective violin plot diagram.pdf\n"
     ]
    }
   ],
   "source": [
    "import os\n",
    "\n",
    "def rename_files_with_single_space(directory='.'):\n",
    "    # Get the list of files in the specified directory\n",
    "    files = os.listdir(directory)\n",
    "\n",
    "    # Iterate through each file in the directory\n",
    "    for filename in files:\n",
    "        # Construct the full path of the file\n",
    "        filepath = os.path.join(directory, filename)\n",
    "\n",
    "        # Check if the path is a file (not a directory)\n",
    "        if os.path.isfile(filepath):\n",
    "            # Replace double spaces with a single space in the filename\n",
    "            new_filename = filename.replace('  ', ' ')\n",
    "\n",
    "            # Construct the new full path with the updated filename\n",
    "            new_filepath = os.path.join(directory, new_filename)\n",
    "\n",
    "            # Rename the file\n",
    "            os.rename(filepath, new_filepath)\n",
    "\n",
    "            print(f'Renamed: {filename} -> {new_filename}')\n",
    "\n",
    "# Call the function with the current directory as the default argument\n",
    "rename_files_with_single_space()"
   ]
  },
  {
   "cell_type": "code",
   "execution_count": null,
   "id": "6b629947",
   "metadata": {},
   "outputs": [],
   "source": []
  }
 ],
 "metadata": {
  "kernelspec": {
   "display_name": "Python 3 (ipykernel)",
   "language": "python",
   "name": "python3"
  },
  "language_info": {
   "codemirror_mode": {
    "name": "ipython",
    "version": 3
   },
   "file_extension": ".py",
   "mimetype": "text/x-python",
   "name": "python",
   "nbconvert_exporter": "python",
   "pygments_lexer": "ipython3",
   "version": "3.7.0"
  }
 },
 "nbformat": 4,
 "nbformat_minor": 5
}
